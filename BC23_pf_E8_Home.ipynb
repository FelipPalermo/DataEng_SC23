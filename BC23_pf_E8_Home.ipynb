{
  "nbformat": 4,
  "nbformat_minor": 0,
  "metadata": {
    "colab": {
      "provenance": [],
      "collapsed_sections": [],
      "authorship_tag": "ABX9TyNiOAuZd+EBMNIhvs6msIkK",
      "include_colab_link": true
    },
    "kernelspec": {
      "name": "python3",
      "display_name": "Python 3"
    },
    "language_info": {
      "name": "python"
    }
  },
  "cells": [
    {
      "cell_type": "markdown",
      "metadata": {
        "id": "view-in-github",
        "colab_type": "text"
      },
      "source": [
        "<a href=\"https://colab.research.google.com/github/FelipPalermo/DataEng_SC23/blob/main/BC23_pf_E8_Home.ipynb\" target=\"_parent\"><img src=\"https://colab.research.google.com/assets/colab-badge.svg\" alt=\"Open In Colab\"/></a>"
      ]
    },
    {
      "cell_type": "markdown",
      "source": [
        "##***HOME***\n",
        "\n",
        "***Aqui você pode encontrar links para os nossos colabs onde fizemos os tratamentos dos datasets na seção \"Links Colabs\".***\n",
        "\n",
        "***E na seção \"Workflow\", tem os processos que utliziamos nesse projeto.***"
      ],
      "metadata": {
        "id": "URHadcMMJ9Ay"
      }
    },
    {
      "cell_type": "markdown",
      "source": [
        "##***Links Colabs***\n",
        "***Os dados foram tratados em colabs diferentes, aqui estão os links de cada um deles.***\n",
        "\n",
        "1. Dados Brasil : https://colab.research.google.com/drive/1le8DBQKY4HgKWRRB33aXLDpxTZjLjA_F?usp=sharing \n",
        "\n",
        "2. Inflação : https://colab.research.google.com/drive/1MW9WqwJ6cb3WSM-nYdtP7brgz1QYVaH-#scrollTo=WrLHtUwsJFDv\n",
        "\n",
        "3. Gasolina : https://colab.research.google.com/drive/1NqF___wXtfbjLRJunxzBIZOFKS1yhAtN?usp=sharing\n",
        "\n",
        "4. Upload para MongoDB : https://colab.research.google.com/drive/11PmDDGaTmMDye0PiJt8zUzqtXwKog6ja?usp=sharing\n",
        "\n",
        "5. Petroleo : https://colab.research.google.com/drive/1v6IYjsh0ryOx0X-JxSAjeqmwbvCQqL-q?usp=sharing\n",
        "\n",
        "6.  PIB : https://colab.research.google.com/drive/1aVj8-X-pRmf09PxIdmgsEWUoF4DIWCgq?usp=sharing \n",
        "\n",
        "7. Preco Consumidor : https://colab.research.google.com/drive/1LI5lNSq32bhjI1A2eyDkg-OQThkFfBhb?usp=sharing\n",
        "\n",
        "8. Tratamento em batch de datasets gasolina: https://colab.research.google.com/drive/1GMOKfsN51UGIIx1lKYfemWDQJdJGmjDj?usp=sharing\n",
        "\n"
      ],
      "metadata": {
        "id": "M9ZgWysrKK7S"
      }
    },
    {
      "cell_type": "markdown",
      "source": [
        "##***WORKFLOW***\n",
        "\n",
        "\n",
        "## MySQL\n",
        "**Para conseguir subir uma grande quantidade de dados de uma vez só, convertemos os CSV para SQL usando um conversor online. Então fizemos o upload para o MySql na GCP.**\n",
        "\n",
        "\n",
        "## MongoDB \n",
        "**O upload para o mongo db foi feito usando o pandas e o mongo srv pelo colab, usando arquivos de uma bucket GCP, tanto os originais quanto os tratado.**\n",
        "\n",
        "\n",
        "## Tratamento \n",
        "**Para agilizar os proecessos, cada um dos integrantes do grupo ficou responsavel pela limpeza de um DataSet. O tratamento dos dados foi feito utilizando na maior parte das vezes pandas, pois não trabalhamos com nenhum dataset tão grande que fosse necessario utilizar o pyspark.**\n",
        "\n",
        "## Upload para BigQuerry e MongoDB\n",
        "**Assim que finalizamos os tratamentos enviamos os arquivos novamente para uma bucket GCP (datalake). Desse DataLake, fizemos a conexão novamente com o Pandas e MongoDB para fazer o upload dos dados tratados. Também enviamos os arquivos para BigQuerry, utilizando os arquivos do nosso DataLake, como todos estavam em .csv foi um processo bem rápido.**"
      ],
      "metadata": {
        "id": "DgbgEtNOKQ_a"
      }
    },
    {
      "cell_type": "markdown",
      "source": [
        "##***LINK APRESENTACAO***"
      ],
      "metadata": {
        "id": "PhWCZbwyP1It"
      }
    },
    {
      "cell_type": "markdown",
      "source": [
        "***Link para arquivos dos arquivos de apresentação na bucket*** :\n",
        "\n",
        "https://console.cloud.google.com/storage/browser/apre-e8;tab=objects?hl=pt-br&project=lunar-reef-355417&prefix=&forceOnObjectsSortingFiltering=false\n"
      ],
      "metadata": {
        "id": "8-FujkD_P2tQ"
      }
    }
  ]
}