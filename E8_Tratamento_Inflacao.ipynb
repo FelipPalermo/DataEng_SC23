{
  "nbformat": 4,
  "nbformat_minor": 0,
  "metadata": {
    "colab": {
      "provenance": [],
      "collapsed_sections": [],
      "authorship_tag": "ABX9TyNvur6i3c6Cp5olT5nvfQB1",
      "include_colab_link": true
    },
    "kernelspec": {
      "name": "python3",
      "display_name": "Python 3"
    },
    "language_info": {
      "name": "python"
    }
  },
  "cells": [
    {
      "cell_type": "markdown",
      "metadata": {
        "id": "view-in-github",
        "colab_type": "text"
      },
      "source": [
        "<a href=\"https://colab.research.google.com/github/FelipPalermo/DataEng_SC23/blob/main/E8_Tratamento_Inflacao.ipynb\" target=\"_parent\"><img src=\"https://colab.research.google.com/assets/colab-badge.svg\" alt=\"Open In Colab\"/></a>"
      ]
    },
    {
      "cell_type": "markdown",
      "source": [
        "##***Instalacoes***"
      ],
      "metadata": {
        "id": "AEH39-jlI9C-"
      }
    },
    {
      "cell_type": "code",
      "source": [
        "pip install pyspark"
      ],
      "metadata": {
        "colab": {
          "base_uri": "https://localhost:8080/"
        },
        "id": "joPSLJVghjU8",
        "outputId": "34df1c55-e9bd-498e-f2c7-7e4e01915ad4"
      },
      "execution_count": null,
      "outputs": [
        {
          "output_type": "stream",
          "name": "stdout",
          "text": [
            "Looking in indexes: https://pypi.org/simple, https://us-python.pkg.dev/colab-wheels/public/simple/\n",
            "Collecting pyspark\n",
            "  Downloading pyspark-3.3.0.tar.gz (281.3 MB)\n",
            "\u001b[K     |████████████████████████████████| 281.3 MB 45 kB/s \n",
            "\u001b[?25hCollecting py4j==0.10.9.5\n",
            "  Downloading py4j-0.10.9.5-py2.py3-none-any.whl (199 kB)\n",
            "\u001b[K     |████████████████████████████████| 199 kB 44.6 MB/s \n",
            "\u001b[?25hBuilding wheels for collected packages: pyspark\n",
            "  Building wheel for pyspark (setup.py) ... \u001b[?25l\u001b[?25hdone\n",
            "  Created wheel for pyspark: filename=pyspark-3.3.0-py2.py3-none-any.whl size=281764026 sha256=8a53008db2804d03a05b41111bd8ec4a5fbdf37837df94a3ed89e17d8d74c19a\n",
            "  Stored in directory: /root/.cache/pip/wheels/7a/8e/1b/f73a52650d2e5f337708d9f6a1750d451a7349a867f928b885\n",
            "Successfully built pyspark\n",
            "Installing collected packages: py4j, pyspark\n",
            "Successfully installed py4j-0.10.9.5 pyspark-3.3.0\n"
          ]
        }
      ]
    },
    {
      "cell_type": "code",
      "source": [
        "# Instalacoes \n",
        "pip install pyspark"
      ],
      "metadata": {
        "colab": {
          "base_uri": "https://localhost:8080/",
          "height": 131
        },
        "id": "YrlZirVhImQV",
        "outputId": "2a14507f-03dd-40f5-f899-2c22df252136"
      },
      "execution_count": null,
      "outputs": [
        {
          "output_type": "error",
          "ename": "SyntaxError",
          "evalue": "ignored",
          "traceback": [
            "\u001b[0;36m  File \u001b[0;32m\"<ipython-input-130-ad0738321f3a>\"\u001b[0;36m, line \u001b[0;32m2\u001b[0m\n\u001b[0;31m    pip install pyspark\u001b[0m\n\u001b[0m              ^\u001b[0m\n\u001b[0;31mSyntaxError\u001b[0m\u001b[0;31m:\u001b[0m invalid syntax\n"
          ]
        }
      ]
    },
    {
      "cell_type": "markdown",
      "source": [
        "##***Impotacoes***"
      ],
      "metadata": {
        "id": "21aXRm-kI7CL"
      }
    },
    {
      "cell_type": "code",
      "execution_count": null,
      "metadata": {
        "id": "rUpTmu3PIK7M"
      },
      "outputs": [],
      "source": [
        "# Pandas \n",
        "import pandas as pd \n",
        "import pandera as pa \n",
        "\n",
        "\n",
        "# Pyspark e Funcoes do Pyspark\n",
        "from pyspark.sql import SparkSession\n",
        "import pyspark.sql.functions as f\n",
        "from pyspark.sql.types import *\n",
        "from pyspark.sql.window import Window\n",
        "from pyspark.sql.functions import *"
      ]
    },
    {
      "cell_type": "code",
      "source": [
        "# Abrindo dataset da bucket\n",
        "df = pd.read_csv(\"https://storage.googleapis.com/bucket_e8_pf/Inflacao_Paises.csv\")"
      ],
      "metadata": {
        "id": "4BuCF04VI4am"
      },
      "execution_count": null,
      "outputs": []
    },
    {
      "cell_type": "markdown",
      "source": [
        "##***Tratamento em Pandas***"
      ],
      "metadata": {
        "id": "JPDpOEzoObvj"
      }
    },
    {
      "cell_type": "code",
      "source": [
        "# Filtro para pegar apenas os paises que sao relevantes\n",
        "df = df.loc[(df[\"LOCATION\"] == \"BRA\") | (df[\"LOCATION\"] == \"ARG\")]"
      ],
      "metadata": {
        "id": "uCTg6LFyJEcy"
      },
      "execution_count": null,
      "outputs": []
    },
    {
      "cell_type": "code",
      "source": [
        "# Filtro para pegar apenas os dados anuais\n",
        "df = df.loc[df[\"FREQUENCY\"] == \"A\"]"
      ],
      "metadata": {
        "id": "WrLHtUwsJFDv"
      },
      "execution_count": null,
      "outputs": []
    },
    {
      "cell_type": "code",
      "source": [
        "# Retirando colunas desnecessarias\n",
        "\n",
        "# Podemos dropar a Frequency porque filtramos por ela e sabemos que tem apenas\n",
        "# um valor\n",
        "\n",
        "# Flag codes é apenas nulos\n",
        "# Measure é apenas AGRWTH\t\"annual growth\"\n",
        "df.drop(columns=[\"MEASURE\", \"FREQUENCY\", \"Flag Codes\"], axis=1, inplace=True)"
      ],
      "metadata": {
        "id": "A_f82zZSOk9a"
      },
      "execution_count": null,
      "outputs": []
    },
    {
      "cell_type": "code",
      "source": [
        "# Traduzindo nome das colunas\n",
        "df.rename(columns={\"LOCATION\" : \"Pais\",\n",
        "                    \"INDICATOR\" : \"Indicador\",\n",
        "                    \"SUBJECT\" : \"Sujeito\",\n",
        "                    \"TIME\" : \"Ano\",\n",
        "                    \"Value\" : \"Valor\"}, inplace=True)"
      ],
      "metadata": {
        "id": "D_UQzBkKO1sZ"
      },
      "execution_count": null,
      "outputs": []
    },
    {
      "cell_type": "code",
      "source": [
        "# Reonomenado CPIFORECAST para Inflacao\n",
        "df.replace(\"CPIFORECAST\", \"Inflacao\", inplace=True)"
      ],
      "metadata": {
        "id": "V4fW4XfnZXvo"
      },
      "execution_count": null,
      "outputs": []
    },
    {
      "cell_type": "code",
      "source": [
        "# Procurando por inconsistencias \n",
        "\n",
        "# Nao foi encontrado nenhum erro em nenhuma coluna \n",
        "sorted(pd.unique(df[\"Valor\"]))"
      ],
      "metadata": {
        "colab": {
          "base_uri": "https://localhost:8080/"
        },
        "id": "SPhShAAuQda1",
        "outputId": "8bc8ca09-b238-4414-d8c8-baf542de4f2e"
      },
      "execution_count": null,
      "outputs": [
        {
          "output_type": "execute_result",
          "data": {
            "text/plain": [
              "[-1.16667695198682,\n",
              " -1.06550342787062,\n",
              " -0.939107403163536,\n",
              " 0.155677818387419,\n",
              " 0.528587739768843,\n",
              " 0.924665345259014,\n",
              " 3.19507629280056,\n",
              " 3.21176803803376,\n",
              " 3.37609854585312,\n",
              " 3.44637335032672,\n",
              " 3.64127299102652,\n",
              " 3.66485028376721,\n",
              " 3.73297621216901,\n",
              " 4.17733761079798,\n",
              " 4.18356812896901,\n",
              " 4.41598601087358,\n",
              " 4.85844749902668,\n",
              " 4.88803479876805,\n",
              " 5.03872690108064,\n",
              " 5.25258177057424,\n",
              " 5.40349914037003,\n",
              " 5.67859390284172,\n",
              " 6.20431066640105,\n",
              " 6.27067386493678,\n",
              " 6.32904015516142,\n",
              " 6.59718509985968,\n",
              " 6.63644962213093,\n",
              " 6.84035902487521,\n",
              " 6.86953720898966,\n",
              " 6.9267125162915,\n",
              " 7.04414105947266,\n",
              " 7.57800811564256,\n",
              " 8.30165975585675,\n",
              " 8.45016437708329,\n",
              " 8.58437553267839,\n",
              " 8.73914352329393,\n",
              " 8.83356970844211,\n",
              " 9.02990102416125,\n",
              " 9.64239819992482,\n",
              " 9.71844096045509,\n",
              " 9.77538664681339,\n",
              " 10.0623176536827,\n",
              " 10.4613092929074,\n",
              " 10.5997453828849,\n",
              " 10.6115129405832,\n",
              " 10.896440304989,\n",
              " 13.4431434162399,\n",
              " 13.5785037144501,\n",
              " 14.7149197228147,\n",
              " 15.7576656002605,\n",
              " 16.2273978043767,\n",
              " 22.1443917410714,\n",
              " 24.2164869358984,\n",
              " 24.8999501082678,\n",
              " 25.8685462155053,\n",
              " 25.9747312404328,\n",
              " 26.1267112356362,\n",
              " 27.7000000170623,\n",
              " 28.5584444714574,\n",
              " 28.5952182161455,\n",
              " 29.2201673268721,\n",
              " 31.863475238722,\n",
              " 34.7233004203046,\n",
              " 36.2743275340769,\n",
              " 38.4,\n",
              " 40.4047598277393,\n",
              " 40.6999999982416,\n",
              " 48.8155497943494,\n",
              " 50.5683205021863,\n",
              " 54.3862350799672,\n",
              " 58.4548639916436,\n",
              " 60.1342126458716,\n",
              " 60.303096108471,\n",
              " 90.0903717585336,\n",
              " 100.764172890206,\n",
              " 104.476896467218,\n",
              " 131.33467673364,\n",
              " 159.511007346005,\n",
              " 164.779047761298,\n",
              " 171.671699443472,\n",
              " 175.508666194926,\n",
              " 176.031720444834,\n",
              " 182.792473788264,\n",
              " 342.953840817049,\n",
              " 343.800135792956,\n",
              " 444.013141824222,\n",
              " 626.733592268704,\n",
              " 672.180754090921,\n",
              " 2313.96278986331,\n",
              " 3079.45410407976]"
            ]
          },
          "metadata": {},
          "execution_count": 108
        }
      ]
    },
    {
      "cell_type": "code",
      "source": [
        "# Alterando ano de string para int \n",
        "df[\"Ano\"] = df[\"Ano\"].astype(int)"
      ],
      "metadata": {
        "id": "K0xcpv5dTXjr"
      },
      "execution_count": null,
      "outputs": []
    },
    {
      "cell_type": "code",
      "source": [
        "# Verificando tipo de cada coluna \n",
        "df.dtypes"
      ],
      "metadata": {
        "colab": {
          "base_uri": "https://localhost:8080/"
        },
        "id": "TJ37VM_-SoMJ",
        "outputId": "4b7cab19-33ed-4ce0-df57-d6b3e0aa9eab"
      },
      "execution_count": null,
      "outputs": [
        {
          "output_type": "execute_result",
          "data": {
            "text/plain": [
              "Pais          object\n",
              "Indicador     object\n",
              "Sujeito       object\n",
              "Ano            int64\n",
              "Valor        float64\n",
              "dtype: object"
            ]
          },
          "metadata": {},
          "execution_count": 110
        }
      ]
    },
    {
      "cell_type": "code",
      "source": [
        "# Resetando o index das colunas\n",
        "df = df.reset_index(drop=True)"
      ],
      "metadata": {
        "id": "ChVo4nbOXA9P"
      },
      "execution_count": null,
      "outputs": []
    },
    {
      "cell_type": "code",
      "source": [
        "# Salvando o DataFrame tratado para CSV sem a coluna de index\n",
        "df.to_csv(\"Inflacao_Tratado.csv\", index=False)"
      ],
      "metadata": {
        "id": "zfHmhl_laqly"
      },
      "execution_count": null,
      "outputs": []
    },
    {
      "cell_type": "markdown",
      "source": [
        "##***Plotagem com Pandas***"
      ],
      "metadata": {
        "id": "iFrtYzF9cbv-"
      }
    },
    {
      "cell_type": "code",
      "source": [
        "# Plotando graficos referente a inflacao de cada ano\n",
        "# Podemos observado que a inflacao da argentina é muito maior que a do brasil\n",
        "\n",
        "df.groupby(\"Pais\").plot(x = \"Ano\", y=\"Valor\", xlabel = \"Ano\", ylabel = \"Valor\")"
      ],
      "metadata": {
        "colab": {
          "base_uri": "https://localhost:8080/",
          "height": 610
        },
        "id": "C2OmDXBdSbJY",
        "outputId": "456e8644-204a-4152-9db5-8a51f898dff2"
      },
      "execution_count": null,
      "outputs": [
        {
          "output_type": "execute_result",
          "data": {
            "text/plain": [
              "Pais\n",
              "ARG    AxesSubplot(0.125,0.125;0.775x0.755)\n",
              "BRA    AxesSubplot(0.125,0.125;0.775x0.755)\n",
              "dtype: object"
            ]
          },
          "metadata": {},
          "execution_count": 112
        },
        {
          "output_type": "display_data",
          "data": {
            "text/plain": [
              "<Figure size 432x288 with 1 Axes>"
            ],
            "image/png": "[encoded data removed]"
          },
          "metadata": {
            "needs_background": "light"
          }
        },
        {
          "output_type": "display_data",
          "data": {
            "text/plain": [
              "<Figure size 432x288 with 1 Axes>"
            ],
            "image/png": "[encoded data removed]"
          },
          "metadata": {
            "needs_background": "light"
          }
        }
      ]
    },
    {
      "cell_type": "markdown",
      "source": [
        "###***Regex com Pandera***"
      ],
      "metadata": {
        "id": "8MNMbK4tceEx"
      }
    },
    {
      "cell_type": "code",
      "source": [
        "df.info()"
      ],
      "metadata": {
        "colab": {
          "base_uri": "https://localhost:8080/"
        },
        "id": "G-7g-QeUTQNO",
        "outputId": "f26f7a93-8ddf-4e33-d97b-5ccc1cfec77e"
      },
      "execution_count": null,
      "outputs": [
        {
          "output_type": "stream",
          "name": "stdout",
          "text": [
            "<class 'pandas.core.frame.DataFrame'>\n",
            "RangeIndex: 90 entries, 0 to 89\n",
            "Data columns (total 5 columns):\n",
            " #   Column     Non-Null Count  Dtype  \n",
            "---  ------     --------------  -----  \n",
            " 0   Pais       90 non-null     object \n",
            " 1   Indicador  90 non-null     object \n",
            " 2   Sujeito    90 non-null     object \n",
            " 3   Ano        90 non-null     int64  \n",
            " 4   Valor      90 non-null     float64\n",
            "dtypes: float64(1), int64(1), object(3)\n",
            "memory usage: 3.6+ KB\n"
          ]
        }
      ]
    },
    {
      "cell_type": "code",
      "source": [
        "# Criando Regex com pandera\n",
        "\n",
        "schema = pa.DataFrameSchema(\n",
        "      columns = {\n",
        "          \"Pais\" :pa.Column(pa.String),\n",
        "          \"Indicador\" :pa.Column(pa.String),\n",
        "          \"Sujeito\" :pa.Column(pa.String),\n",
        "          \"Ano\" :pa.Column(pa.Int),\n",
        "          \"Valor\" :pa.Column(pa.Float)\n",
        "      })"
      ],
      "metadata": {
        "id": "xgiBnjjVckHm"
      },
      "execution_count": null,
      "outputs": []
    },
    {
      "cell_type": "code",
      "source": [
        "# Verificando integridade dos dados \n",
        "schema.validate(df)"
      ],
      "metadata": {
        "colab": {
          "base_uri": "https://localhost:8080/",
          "height": 423
        },
        "id": "rYEAavmsdEAl",
        "outputId": "9e9fa802-67fb-4e21-ee9d-60c29d8e8e59"
      },
      "execution_count": null,
      "outputs": [
        {
          "output_type": "execute_result",
          "data": {
            "text/plain": [
              "   Pais Indicador Sujeito   Ano      Valor\n",
              "0   BRA  Inflacao     TOT  1996  15.757666\n",
              "1   BRA  Inflacao     TOT  1997   6.926713\n",
              "2   BRA  Inflacao     TOT  1998   3.195076\n",
              "3   BRA  Inflacao     TOT  1999   4.858447\n",
              "4   BRA  Inflacao     TOT  2000   7.044141\n",
              "..  ...       ...     ...   ...        ...\n",
              "85  ARG  Inflacao     TOT  2019  54.386235\n",
              "86  ARG  Inflacao     TOT  2020  40.404760\n",
              "87  ARG  Inflacao     TOT  2021  48.815550\n",
              "88  ARG  Inflacao     TOT  2022  60.134213\n",
              "89  ARG  Inflacao     TOT  2023  50.568321\n",
              "\n",
              "[90 rows x 5 columns]"
            ],
            "text/html": [
              "\n",
              "  <div id=\"df-039a7312-b6df-4622-abf8-db01ac97a10f\">\n",
              "    <div class=\"colab-df-container\">\n",
              "      <div>\n",
              "<style scoped>\n",
              "    .dataframe tbody tr th:only-of-type {\n",
              "        vertical-align: middle;\n",
              "    }\n",
              "\n",
              "    .dataframe tbody tr th {\n",
              "        vertical-align: top;\n",
              "    }\n",
              "\n",
              "    .dataframe thead th {\n",
              "        text-align: right;\n",
              "    }\n",
              "</style>\n",
              "<table border=\"1\" class=\"dataframe\">\n",
              "  <thead>\n",
              "    <tr style=\"text-align: right;\">\n",
              "      <th></th>\n",
              "      <th>Pais</th>\n",
              "      <th>Indicador</th>\n",
              "      <th>Sujeito</th>\n",
              "      <th>Ano</th>\n",
              "      <th>Valor</th>\n",
              "    </tr>\n",
              "  </thead>\n",
              "  <tbody>\n",
              "    <tr>\n",
              "      <th>0</th>\n",
              "      <td>BRA</td>\n",
              "      <td>Inflacao</td>\n",
              "      <td>TOT</td>\n",
              "      <td>1996</td>\n",
              "      <td>15.757666</td>\n",
              "    </tr>\n",
              "    <tr>\n",
              "      <th>1</th>\n",
              "      <td>BRA</td>\n",
              "      <td>Inflacao</td>\n",
              "      <td>TOT</td>\n",
              "      <td>1997</td>\n",
              "      <td>6.926713</td>\n",
              "    </tr>\n",
              "    <tr>\n",
              "      <th>2</th>\n",
              "      <td>BRA</td>\n",
              "      <td>Inflacao</td>\n",
              "      <td>TOT</td>\n",
              "      <td>1998</td>\n",
              "      <td>3.195076</td>\n",
              "    </tr>\n",
              "    <tr>\n",
              "      <th>3</th>\n",
              "      <td>BRA</td>\n",
              "      <td>Inflacao</td>\n",
              "      <td>TOT</td>\n",
              "      <td>1999</td>\n",
              "      <td>4.858447</td>\n",
              "    </tr>\n",
              "    <tr>\n",
              "      <th>4</th>\n",
              "      <td>BRA</td>\n",
              "      <td>Inflacao</td>\n",
              "      <td>TOT</td>\n",
              "      <td>2000</td>\n",
              "      <td>7.044141</td>\n",
              "    </tr>\n",
              "    <tr>\n",
              "      <th>...</th>\n",
              "      <td>...</td>\n",
              "      <td>...</td>\n",
              "      <td>...</td>\n",
              "      <td>...</td>\n",
              "      <td>...</td>\n",
              "    </tr>\n",
              "    <tr>\n",
              "      <th>85</th>\n",
              "      <td>ARG</td>\n",
              "      <td>Inflacao</td>\n",
              "      <td>TOT</td>\n",
              "      <td>2019</td>\n",
              "      <td>54.386235</td>\n",
              "    </tr>\n",
              "    <tr>\n",
              "      <th>86</th>\n",
              "      <td>ARG</td>\n",
              "      <td>Inflacao</td>\n",
              "      <td>TOT</td>\n",
              "      <td>2020</td>\n",
              "      <td>40.404760</td>\n",
              "    </tr>\n",
              "    <tr>\n",
              "      <th>87</th>\n",
              "      <td>ARG</td>\n",
              "      <td>Inflacao</td>\n",
              "      <td>TOT</td>\n",
              "      <td>2021</td>\n",
              "      <td>48.815550</td>\n",
              "    </tr>\n",
              "    <tr>\n",
              "      <th>88</th>\n",
              "      <td>ARG</td>\n",
              "      <td>Inflacao</td>\n",
              "      <td>TOT</td>\n",
              "      <td>2022</td>\n",
              "      <td>60.134213</td>\n",
              "    </tr>\n",
              "    <tr>\n",
              "      <th>89</th>\n",
              "      <td>ARG</td>\n",
              "      <td>Inflacao</td>\n",
              "      <td>TOT</td>\n",
              "      <td>2023</td>\n",
              "      <td>50.568321</td>\n",
              "    </tr>\n",
              "  </tbody>\n",
              "</table>\n",
              "<p>90 rows × 5 columns</p>\n",
              "</div>\n",
              "      <button class=\"colab-df-convert\" onclick=\"convertToInteractive('df-039a7312-b6df-4622-abf8-db01ac97a10f')\"\n",
              "              title=\"Convert this dataframe to an interactive table.\"\n",
              "              style=\"display:none;\">\n",
              "        \n",
              "  <svg xmlns=\"http://www.w3.org/2000/svg\" height=\"24px\"viewBox=\"0 0 24 24\"\n",
              "       width=\"24px\">\n",
              "    <path d=\"M0 0h24v24H0V0z\" fill=\"none\"/>\n",
              "    <path d=\"M18.56 5.44l.94 2.06.94-2.06 2.06-.94-2.06-.94-.94-2.06-.94 2.06-2.06.94zm-11 1L8.5 8.5l.94-2.06 2.06-.94-2.06-.94L8.5 2.5l-.94 2.06-2.06.94zm10 10l.94 2.06.94-2.06 2.06-.94-2.06-.94-.94-2.06-.94 2.06-2.06.94z\"/><path d=\"M17.41 7.96l-1.37-1.37c-.4-.4-.92-.59-1.43-.59-.52 0-1.04.2-1.43.59L10.3 9.45l-7.72 7.72c-.78.78-.78 2.05 0 2.83L4 21.41c.39.39.9.59 1.41.59.51 0 1.02-.2 1.41-.59l7.78-7.78 2.81-2.81c.8-.78.8-2.07 0-2.86zM5.41 20L4 18.59l7.72-7.72 1.47 1.35L5.41 20z\"/>\n",
              "  </svg>\n",
              "      </button>\n",
              "      \n",
              "  <style>\n",
              "    .colab-df-container {\n",
              "      display:flex;\n",
              "      flex-wrap:wrap;\n",
              "      gap: 12px;\n",
              "    }\n",
              "\n",
              "    .colab-df-convert {\n",
              "      background-color: #E8F0FE;\n",
              "      border: none;\n",
              "      border-radius: 50%;\n",
              "      cursor: pointer;\n",
              "      display: none;\n",
              "      fill: #1967D2;\n",
              "      height: 32px;\n",
              "      padding: 0 0 0 0;\n",
              "      width: 32px;\n",
              "    }\n",
              "\n",
              "    .colab-df-convert:hover {\n",
              "      background-color: #E2EBFA;\n",
              "      box-shadow: 0px 1px 2px rgba(60, 64, 67, 0.3), 0px 1px 3px 1px rgba(60, 64, 67, 0.15);\n",
              "      fill: #174EA6;\n",
              "    }\n",
              "\n",
              "    [theme=dark] .colab-df-convert {\n",
              "      background-color: #3B4455;\n",
              "      fill: #D2E3FC;\n",
              "    }\n",
              "\n",
              "    [theme=dark] .colab-df-convert:hover {\n",
              "      background-color: #434B5C;\n",
              "      box-shadow: 0px 1px 3px 1px rgba(0, 0, 0, 0.15);\n",
              "      filter: drop-shadow(0px 1px 2px rgba(0, 0, 0, 0.3));\n",
              "      fill: #FFFFFF;\n",
              "    }\n",
              "  </style>\n",
              "\n",
              "      <script>\n",
              "        const buttonEl =\n",
              "          document.querySelector('#df-039a7312-b6df-4622-abf8-db01ac97a10f button.colab-df-convert');\n",
              "        buttonEl.style.display =\n",
              "          google.colab.kernel.accessAllowed ? 'block' : 'none';\n",
              "\n",
              "        async function convertToInteractive(key) {\n",
              "          const element = document.querySelector('#df-039a7312-b6df-4622-abf8-db01ac97a10f');\n",
              "          const dataTable =\n",
              "            await google.colab.kernel.invokeFunction('convertToInteractive',\n",
              "                                                     [key], {});\n",
              "          if (!dataTable) return;\n",
              "\n",
              "          const docLinkHtml = 'Like what you see? Visit the ' +\n",
              "            '<a target=\"_blank\" href=https://colab.research.google.com/notebooks/data_table.ipynb>data table notebook</a>'\n",
              "            + ' to learn more about interactive tables.';\n",
              "          element.innerHTML = '';\n",
              "          dataTable['output_type'] = 'display_data';\n",
              "          await google.colab.output.renderOutput(dataTable, element);\n",
              "          const docLink = document.createElement('div');\n",
              "          docLink.innerHTML = docLinkHtml;\n",
              "          element.appendChild(docLink);\n",
              "        }\n",
              "      </script>\n",
              "    </div>\n",
              "  </div>\n",
              "  "
            ]
          },
          "metadata": {},
          "execution_count": 129
        }
      ]
    },
    {
      "cell_type": "markdown",
      "source": [
        "##***PySpark***"
      ],
      "metadata": {
        "id": "teeUIGGjdXf4"
      }
    },
    {
      "cell_type": "code",
      "source": [],
      "metadata": {
        "id": "P21JAUxMdNix"
      },
      "execution_count": null,
      "outputs": []
    }
  ]
}